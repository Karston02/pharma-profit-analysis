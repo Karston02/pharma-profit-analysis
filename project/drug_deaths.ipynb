{
 "cells": [
  {
   "cell_type": "code",
   "execution_count": 33,
   "metadata": {},
   "outputs": [],
   "source": [
    "# import libraries\n",
    "import pandas as pd\n",
    "import numpy as np"
   ]
  },
  {
   "cell_type": "code",
   "execution_count": 34,
   "metadata": {},
   "outputs": [],
   "source": [
    "# read from raw file\n",
    "df = pd.read_csv ('pharma-data/raw-data/overdoses/DrugDeaths.csv')"
   ]
  },
  {
   "cell_type": "code",
   "execution_count": 35,
   "metadata": {},
   "outputs": [
    {
     "data": {
      "text/plain": [
       "(10654, 48)"
      ]
     },
     "execution_count": 35,
     "metadata": {},
     "output_type": "execute_result"
    }
   ],
   "source": [
    "# uncleaned file shape\n",
    "df.shape"
   ]
  },
  {
   "cell_type": "code",
   "execution_count": 13,
   "metadata": {},
   "outputs": [
    {
     "data": {
      "text/plain": [
       "Index(['Date', 'Date Type', 'Age', 'Sex', 'Race', 'Ethnicity',\n",
       "       'Residence City', 'Residence County', 'Residence State', 'Injury City',\n",
       "       'Injury County', 'Injury State', 'Injury Place',\n",
       "       'Description of Injury', 'Death City', 'Death County', 'Death State',\n",
       "       'Location', 'Location if Other', 'Cause of Death', 'Manner of Death',\n",
       "       'Other Significant Conditions ', 'Heroin',\n",
       "       'Heroin death certificate (DC)', 'Cocaine', 'Fentanyl',\n",
       "       'Fentanyl Analogue', 'Oxycodone', 'Oxymorphone', 'Ethanol',\n",
       "       'Hydrocodone', 'Benzodiazepine', 'Methadone', 'Meth/Amphetamine',\n",
       "       'Amphet', 'Tramad', 'Hydromorphone', 'Morphine (Not Heroin)',\n",
       "       'Xylazine', 'Gabapentin', 'Opiate NOS', 'Heroin/Morph/Codeine',\n",
       "       'Other Opioid', 'Any Opioid', 'Other', 'ResidenceCityGeo',\n",
       "       'InjuryCityGeo', 'DeathCityGeo'],\n",
       "      dtype='object')"
      ]
     },
     "execution_count": 13,
     "metadata": {},
     "output_type": "execute_result"
    }
   ],
   "source": [
    "# lot of clutter columns shown\n",
    "df.columns"
   ]
  },
  {
   "cell_type": "code",
   "execution_count": 14,
   "metadata": {},
   "outputs": [
    {
     "data": {
      "text/html": [
       "<div>\n",
       "<style scoped>\n",
       "    .dataframe tbody tr th:only-of-type {\n",
       "        vertical-align: middle;\n",
       "    }\n",
       "\n",
       "    .dataframe tbody tr th {\n",
       "        vertical-align: top;\n",
       "    }\n",
       "\n",
       "    .dataframe thead th {\n",
       "        text-align: right;\n",
       "    }\n",
       "</style>\n",
       "<table border=\"1\" class=\"dataframe\">\n",
       "  <thead>\n",
       "    <tr style=\"text-align: right;\">\n",
       "      <th></th>\n",
       "      <th>Date</th>\n",
       "      <th>Date Type</th>\n",
       "      <th>Age</th>\n",
       "      <th>Sex</th>\n",
       "      <th>Race</th>\n",
       "      <th>Ethnicity</th>\n",
       "      <th>Residence City</th>\n",
       "      <th>Residence County</th>\n",
       "      <th>Residence State</th>\n",
       "      <th>Injury City</th>\n",
       "      <th>...</th>\n",
       "      <th>Xylazine</th>\n",
       "      <th>Gabapentin</th>\n",
       "      <th>Opiate NOS</th>\n",
       "      <th>Heroin/Morph/Codeine</th>\n",
       "      <th>Other Opioid</th>\n",
       "      <th>Any Opioid</th>\n",
       "      <th>Other</th>\n",
       "      <th>ResidenceCityGeo</th>\n",
       "      <th>InjuryCityGeo</th>\n",
       "      <th>DeathCityGeo</th>\n",
       "    </tr>\n",
       "  </thead>\n",
       "  <tbody>\n",
       "    <tr>\n",
       "      <th>0</th>\n",
       "      <td>05/29/2012</td>\n",
       "      <td>Date of death</td>\n",
       "      <td>37.0</td>\n",
       "      <td>Male</td>\n",
       "      <td>Black</td>\n",
       "      <td>NaN</td>\n",
       "      <td>STAMFORD</td>\n",
       "      <td>FAIRFIELD</td>\n",
       "      <td>NaN</td>\n",
       "      <td>STAMFORD</td>\n",
       "      <td>...</td>\n",
       "      <td>NaN</td>\n",
       "      <td>NaN</td>\n",
       "      <td>NaN</td>\n",
       "      <td>NaN</td>\n",
       "      <td>NaN</td>\n",
       "      <td>NaN</td>\n",
       "      <td>NaN</td>\n",
       "      <td>STAMFORD, CT\\n(41.051924, -73.539475)</td>\n",
       "      <td>STAMFORD, CT\\n(41.051924, -73.539475)</td>\n",
       "      <td>CT\\n(41.575155, -72.738288)</td>\n",
       "    </tr>\n",
       "    <tr>\n",
       "      <th>1</th>\n",
       "      <td>06/27/2012</td>\n",
       "      <td>Date of death</td>\n",
       "      <td>37.0</td>\n",
       "      <td>Male</td>\n",
       "      <td>White</td>\n",
       "      <td>NaN</td>\n",
       "      <td>NORWICH</td>\n",
       "      <td>NEW LONDON</td>\n",
       "      <td>NaN</td>\n",
       "      <td>NORWICH</td>\n",
       "      <td>...</td>\n",
       "      <td>NaN</td>\n",
       "      <td>NaN</td>\n",
       "      <td>NaN</td>\n",
       "      <td>NaN</td>\n",
       "      <td>NaN</td>\n",
       "      <td>NaN</td>\n",
       "      <td>NaN</td>\n",
       "      <td>NORWICH, CT\\n(41.524304, -72.075821)</td>\n",
       "      <td>NORWICH, CT\\n(41.524304, -72.075821)</td>\n",
       "      <td>Norwich, CT\\n(41.524304, -72.075821)</td>\n",
       "    </tr>\n",
       "    <tr>\n",
       "      <th>2</th>\n",
       "      <td>03/24/2014</td>\n",
       "      <td>Date of death</td>\n",
       "      <td>28.0</td>\n",
       "      <td>Male</td>\n",
       "      <td>White</td>\n",
       "      <td>NaN</td>\n",
       "      <td>HEBRON</td>\n",
       "      <td>NaN</td>\n",
       "      <td>NaN</td>\n",
       "      <td>HEBRON</td>\n",
       "      <td>...</td>\n",
       "      <td>NaN</td>\n",
       "      <td>NaN</td>\n",
       "      <td>NaN</td>\n",
       "      <td>NaN</td>\n",
       "      <td>NaN</td>\n",
       "      <td>NaN</td>\n",
       "      <td>NaN</td>\n",
       "      <td>HEBRON, CT\\n(41.658069, -72.366324)</td>\n",
       "      <td>HEBRON, CT\\n(41.658069, -72.366324)</td>\n",
       "      <td>Marlborough, CT\\n(41.632043, -72.461309)</td>\n",
       "    </tr>\n",
       "    <tr>\n",
       "      <th>3</th>\n",
       "      <td>12/31/2014</td>\n",
       "      <td>Date of death</td>\n",
       "      <td>26.0</td>\n",
       "      <td>Female</td>\n",
       "      <td>White</td>\n",
       "      <td>NaN</td>\n",
       "      <td>BALTIC</td>\n",
       "      <td>NaN</td>\n",
       "      <td>NaN</td>\n",
       "      <td>NaN</td>\n",
       "      <td>...</td>\n",
       "      <td>NaN</td>\n",
       "      <td>NaN</td>\n",
       "      <td>NaN</td>\n",
       "      <td>NaN</td>\n",
       "      <td>NaN</td>\n",
       "      <td>NaN</td>\n",
       "      <td>NaN</td>\n",
       "      <td>BALTIC, CT\\n(41.617221, -72.085031)</td>\n",
       "      <td>CT\\n(41.575155, -72.738288)</td>\n",
       "      <td>Baltic, CT\\n(41.617221, -72.085031)</td>\n",
       "    </tr>\n",
       "    <tr>\n",
       "      <th>4</th>\n",
       "      <td>01/16/2016</td>\n",
       "      <td>Date of death</td>\n",
       "      <td>41.0</td>\n",
       "      <td>Male</td>\n",
       "      <td>White</td>\n",
       "      <td>NaN</td>\n",
       "      <td>SHELTON</td>\n",
       "      <td>FAIRFIELD</td>\n",
       "      <td>CT</td>\n",
       "      <td>SHELTON</td>\n",
       "      <td>...</td>\n",
       "      <td>NaN</td>\n",
       "      <td>NaN</td>\n",
       "      <td>NaN</td>\n",
       "      <td>NaN</td>\n",
       "      <td>NaN</td>\n",
       "      <td>Y</td>\n",
       "      <td>NaN</td>\n",
       "      <td>SHELTON, CT\\n(41.316843, -73.092968)</td>\n",
       "      <td>SHELTON, CT\\n(41.316843, -73.092968)</td>\n",
       "      <td>Bridgeport, CT\\n(41.179195, -73.189476)</td>\n",
       "    </tr>\n",
       "  </tbody>\n",
       "</table>\n",
       "<p>5 rows × 48 columns</p>\n",
       "</div>"
      ],
      "text/plain": [
       "         Date      Date Type   Age     Sex   Race Ethnicity Residence City  \\\n",
       "0  05/29/2012  Date of death  37.0    Male  Black       NaN       STAMFORD   \n",
       "1  06/27/2012  Date of death  37.0    Male  White       NaN        NORWICH   \n",
       "2  03/24/2014  Date of death  28.0    Male  White       NaN         HEBRON   \n",
       "3  12/31/2014  Date of death  26.0  Female  White       NaN         BALTIC   \n",
       "4  01/16/2016  Date of death  41.0    Male  White       NaN        SHELTON   \n",
       "\n",
       "  Residence County Residence State Injury City  ... Xylazine Gabapentin  \\\n",
       "0        FAIRFIELD             NaN    STAMFORD  ...      NaN        NaN   \n",
       "1       NEW LONDON             NaN     NORWICH  ...      NaN        NaN   \n",
       "2              NaN             NaN      HEBRON  ...      NaN        NaN   \n",
       "3              NaN             NaN         NaN  ...      NaN        NaN   \n",
       "4        FAIRFIELD              CT     SHELTON  ...      NaN        NaN   \n",
       "\n",
       "  Opiate NOS Heroin/Morph/Codeine Other Opioid Any Opioid Other  \\\n",
       "0        NaN                  NaN          NaN        NaN   NaN   \n",
       "1        NaN                  NaN          NaN        NaN   NaN   \n",
       "2        NaN                  NaN          NaN        NaN   NaN   \n",
       "3        NaN                  NaN          NaN        NaN   NaN   \n",
       "4        NaN                  NaN          NaN          Y   NaN   \n",
       "\n",
       "                        ResidenceCityGeo  \\\n",
       "0  STAMFORD, CT\\n(41.051924, -73.539475)   \n",
       "1   NORWICH, CT\\n(41.524304, -72.075821)   \n",
       "2    HEBRON, CT\\n(41.658069, -72.366324)   \n",
       "3    BALTIC, CT\\n(41.617221, -72.085031)   \n",
       "4   SHELTON, CT\\n(41.316843, -73.092968)   \n",
       "\n",
       "                           InjuryCityGeo  \\\n",
       "0  STAMFORD, CT\\n(41.051924, -73.539475)   \n",
       "1   NORWICH, CT\\n(41.524304, -72.075821)   \n",
       "2    HEBRON, CT\\n(41.658069, -72.366324)   \n",
       "3            CT\\n(41.575155, -72.738288)   \n",
       "4   SHELTON, CT\\n(41.316843, -73.092968)   \n",
       "\n",
       "                               DeathCityGeo  \n",
       "0               CT\\n(41.575155, -72.738288)  \n",
       "1      Norwich, CT\\n(41.524304, -72.075821)  \n",
       "2  Marlborough, CT\\n(41.632043, -72.461309)  \n",
       "3       Baltic, CT\\n(41.617221, -72.085031)  \n",
       "4   Bridgeport, CT\\n(41.179195, -73.189476)  \n",
       "\n",
       "[5 rows x 48 columns]"
      ]
     },
     "execution_count": 14,
     "metadata": {},
     "output_type": "execute_result"
    }
   ],
   "source": [
    "# sanity check\n",
    "df.head()"
   ]
  },
  {
   "cell_type": "code",
   "execution_count": 15,
   "metadata": {},
   "outputs": [
    {
     "name": "stdout",
     "output_type": "stream",
     "text": [
      "<class 'pandas.core.frame.DataFrame'>\n",
      "RangeIndex: 10654 entries, 0 to 10653\n",
      "Data columns (total 48 columns):\n",
      " #   Column                         Non-Null Count  Dtype  \n",
      "---  ------                         --------------  -----  \n",
      " 0   Date                           10654 non-null  object \n",
      " 1   Date Type                      10654 non-null  object \n",
      " 2   Age                            10652 non-null  float64\n",
      " 3   Sex                            10645 non-null  object \n",
      " 4   Race                           10625 non-null  object \n",
      " 5   Ethnicity                      1575 non-null   object \n",
      " 6   Residence City                 10148 non-null  object \n",
      " 7   Residence County               9486 non-null   object \n",
      " 8   Residence State                8756 non-null   object \n",
      " 9   Injury City                    10476 non-null  object \n",
      " 10  Injury County                  7332 non-null   object \n",
      " 11  Injury State                   7741 non-null   object \n",
      " 12  Injury Place                   10364 non-null  object \n",
      " 13  Description of Injury          9850 non-null   object \n",
      " 14  Death City                     9197 non-null   object \n",
      " 15  Death County                   8090 non-null   object \n",
      " 16  Death State                    6873 non-null   object \n",
      " 17  Location                       10632 non-null  object \n",
      " 18  Location if Other              1194 non-null   object \n",
      " 19  Cause of Death                 10654 non-null  object \n",
      " 20  Manner of Death                10645 non-null  object \n",
      " 21  Other Significant Conditions   1010 non-null   object \n",
      " 22  Heroin                         3472 non-null   object \n",
      " 23  Heroin death certificate (DC)  740 non-null    object \n",
      " 24  Cocaine                        3855 non-null   object \n",
      " 25  Fentanyl                       6925 non-null   object \n",
      " 26  Fentanyl Analogue              804 non-null    object \n",
      " 27  Oxycodone                      950 non-null    object \n",
      " 28  Oxymorphone                    157 non-null    object \n",
      " 29  Ethanol                        2878 non-null   object \n",
      " 30  Hydrocodone                    163 non-null    object \n",
      " 31  Benzodiazepine                 2499 non-null   object \n",
      " 32  Methadone                      938 non-null    object \n",
      " 33  Meth/Amphetamine               127 non-null    object \n",
      " 34  Amphet                         359 non-null    object \n",
      " 35  Tramad                         284 non-null    object \n",
      " 36  Hydromorphone                  67 non-null     object \n",
      " 37  Morphine (Not Heroin)          55 non-null     object \n",
      " 38  Xylazine                       792 non-null    object \n",
      " 39  Gabapentin                     348 non-null    object \n",
      " 40  Opiate NOS                     126 non-null    object \n",
      " 41  Heroin/Morph/Codeine           2090 non-null   object \n",
      " 42  Other Opioid                   128 non-null    object \n",
      " 43  Any Opioid                     7620 non-null   object \n",
      " 44  Other                          692 non-null    object \n",
      " 45  ResidenceCityGeo               10488 non-null  object \n",
      " 46  InjuryCityGeo                  10408 non-null  object \n",
      " 47  DeathCityGeo                   10653 non-null  object \n",
      "dtypes: float64(1), object(47)\n",
      "memory usage: 3.9+ MB\n"
     ]
    }
   ],
   "source": [
    "df.info()"
   ]
  },
  {
   "cell_type": "code",
   "execution_count": 16,
   "metadata": {},
   "outputs": [
    {
     "data": {
      "text/html": [
       "<div>\n",
       "<style scoped>\n",
       "    .dataframe tbody tr th:only-of-type {\n",
       "        vertical-align: middle;\n",
       "    }\n",
       "\n",
       "    .dataframe tbody tr th {\n",
       "        vertical-align: top;\n",
       "    }\n",
       "\n",
       "    .dataframe thead th {\n",
       "        text-align: right;\n",
       "    }\n",
       "</style>\n",
       "<table border=\"1\" class=\"dataframe\">\n",
       "  <thead>\n",
       "    <tr style=\"text-align: right;\">\n",
       "      <th></th>\n",
       "      <th>Age</th>\n",
       "    </tr>\n",
       "  </thead>\n",
       "  <tbody>\n",
       "    <tr>\n",
       "      <th>count</th>\n",
       "      <td>10652.000000</td>\n",
       "    </tr>\n",
       "    <tr>\n",
       "      <th>mean</th>\n",
       "      <td>43.515302</td>\n",
       "    </tr>\n",
       "    <tr>\n",
       "      <th>std</th>\n",
       "      <td>12.601832</td>\n",
       "    </tr>\n",
       "    <tr>\n",
       "      <th>min</th>\n",
       "      <td>13.000000</td>\n",
       "    </tr>\n",
       "    <tr>\n",
       "      <th>25%</th>\n",
       "      <td>33.000000</td>\n",
       "    </tr>\n",
       "    <tr>\n",
       "      <th>50%</th>\n",
       "      <td>43.000000</td>\n",
       "    </tr>\n",
       "    <tr>\n",
       "      <th>75%</th>\n",
       "      <td>54.000000</td>\n",
       "    </tr>\n",
       "    <tr>\n",
       "      <th>max</th>\n",
       "      <td>87.000000</td>\n",
       "    </tr>\n",
       "  </tbody>\n",
       "</table>\n",
       "</div>"
      ],
      "text/plain": [
       "                Age\n",
       "count  10652.000000\n",
       "mean      43.515302\n",
       "std       12.601832\n",
       "min       13.000000\n",
       "25%       33.000000\n",
       "50%       43.000000\n",
       "75%       54.000000\n",
       "max       87.000000"
      ]
     },
     "execution_count": 16,
     "metadata": {},
     "output_type": "execute_result"
    }
   ],
   "source": [
    "# stats given\n",
    "df.describe()"
   ]
  },
  {
   "cell_type": "code",
   "execution_count": 31,
   "metadata": {},
   "outputs": [],
   "source": [
    "# clean to only consider date and death count\n",
    "death_counts = df.groupby('Date').size().reset_index(name='US Overdose Deaths')"
   ]
  },
  {
   "cell_type": "code",
   "execution_count": 32,
   "metadata": {},
   "outputs": [
    {
     "data": {
      "text/html": [
       "<div>\n",
       "<style scoped>\n",
       "    .dataframe tbody tr th:only-of-type {\n",
       "        vertical-align: middle;\n",
       "    }\n",
       "\n",
       "    .dataframe tbody tr th {\n",
       "        vertical-align: top;\n",
       "    }\n",
       "\n",
       "    .dataframe thead th {\n",
       "        text-align: right;\n",
       "    }\n",
       "</style>\n",
       "<table border=\"1\" class=\"dataframe\">\n",
       "  <thead>\n",
       "    <tr style=\"text-align: right;\">\n",
       "      <th></th>\n",
       "      <th>Date</th>\n",
       "      <th>US Overdose Deaths</th>\n",
       "    </tr>\n",
       "  </thead>\n",
       "  <tbody>\n",
       "    <tr>\n",
       "      <th>0</th>\n",
       "      <td>01/01/2012</td>\n",
       "      <td>1</td>\n",
       "    </tr>\n",
       "    <tr>\n",
       "      <th>1</th>\n",
       "      <td>01/01/2013</td>\n",
       "      <td>1</td>\n",
       "    </tr>\n",
       "    <tr>\n",
       "      <th>2</th>\n",
       "      <td>01/01/2015</td>\n",
       "      <td>4</td>\n",
       "    </tr>\n",
       "    <tr>\n",
       "      <th>3</th>\n",
       "      <td>01/01/2016</td>\n",
       "      <td>4</td>\n",
       "    </tr>\n",
       "    <tr>\n",
       "      <th>4</th>\n",
       "      <td>01/01/2017</td>\n",
       "      <td>1</td>\n",
       "    </tr>\n",
       "  </tbody>\n",
       "</table>\n",
       "</div>"
      ],
      "text/plain": [
       "         Date  US Overdose Deaths\n",
       "0  01/01/2012                   1\n",
       "1  01/01/2013                   1\n",
       "2  01/01/2015                   4\n",
       "3  01/01/2016                   4\n",
       "4  01/01/2017                   1"
      ]
     },
     "execution_count": 32,
     "metadata": {},
     "output_type": "execute_result"
    }
   ],
   "source": [
    "# sanity check\n",
    "death_counts.head()"
   ]
  },
  {
   "cell_type": "code",
   "execution_count": 22,
   "metadata": {},
   "outputs": [
    {
     "data": {
      "text/html": [
       "<div>\n",
       "<style scoped>\n",
       "    .dataframe tbody tr th:only-of-type {\n",
       "        vertical-align: middle;\n",
       "    }\n",
       "\n",
       "    .dataframe tbody tr th {\n",
       "        vertical-align: top;\n",
       "    }\n",
       "\n",
       "    .dataframe thead th {\n",
       "        text-align: right;\n",
       "    }\n",
       "</style>\n",
       "<table border=\"1\" class=\"dataframe\">\n",
       "  <thead>\n",
       "    <tr style=\"text-align: right;\">\n",
       "      <th></th>\n",
       "      <th>Date</th>\n",
       "      <th>US Overdose Deaths</th>\n",
       "    </tr>\n",
       "  </thead>\n",
       "  <tbody>\n",
       "    <tr>\n",
       "      <th>3515</th>\n",
       "      <td>12/31/2018</td>\n",
       "      <td>1</td>\n",
       "    </tr>\n",
       "    <tr>\n",
       "      <th>3516</th>\n",
       "      <td>12/31/2019</td>\n",
       "      <td>4</td>\n",
       "    </tr>\n",
       "    <tr>\n",
       "      <th>3517</th>\n",
       "      <td>12/31/2020</td>\n",
       "      <td>3</td>\n",
       "    </tr>\n",
       "    <tr>\n",
       "      <th>3518</th>\n",
       "      <td>12/31/2021</td>\n",
       "      <td>3</td>\n",
       "    </tr>\n",
       "    <tr>\n",
       "      <th>3519</th>\n",
       "      <td>12/31/2022</td>\n",
       "      <td>3</td>\n",
       "    </tr>\n",
       "  </tbody>\n",
       "</table>\n",
       "</div>"
      ],
      "text/plain": [
       "            Date  US Overdose Deaths\n",
       "3515  12/31/2018                   1\n",
       "3516  12/31/2019                   4\n",
       "3517  12/31/2020                   3\n",
       "3518  12/31/2021                   3\n",
       "3519  12/31/2022                   3"
      ]
     },
     "execution_count": 22,
     "metadata": {},
     "output_type": "execute_result"
    }
   ],
   "source": [
    "# sanity check\n",
    "death_counts.tail()"
   ]
  },
  {
   "cell_type": "code",
   "execution_count": 23,
   "metadata": {},
   "outputs": [],
   "source": [
    "# set the actual index to the date\n",
    "death_counts.set_index('Date', inplace=True)\n"
   ]
  },
  {
   "cell_type": "code",
   "execution_count": 24,
   "metadata": {},
   "outputs": [
    {
     "data": {
      "text/html": [
       "<div>\n",
       "<style scoped>\n",
       "    .dataframe tbody tr th:only-of-type {\n",
       "        vertical-align: middle;\n",
       "    }\n",
       "\n",
       "    .dataframe tbody tr th {\n",
       "        vertical-align: top;\n",
       "    }\n",
       "\n",
       "    .dataframe thead th {\n",
       "        text-align: right;\n",
       "    }\n",
       "</style>\n",
       "<table border=\"1\" class=\"dataframe\">\n",
       "  <thead>\n",
       "    <tr style=\"text-align: right;\">\n",
       "      <th></th>\n",
       "      <th>US Overdose Deaths</th>\n",
       "    </tr>\n",
       "    <tr>\n",
       "      <th>Date</th>\n",
       "      <th></th>\n",
       "    </tr>\n",
       "  </thead>\n",
       "  <tbody>\n",
       "    <tr>\n",
       "      <th>01/01/2012</th>\n",
       "      <td>1</td>\n",
       "    </tr>\n",
       "    <tr>\n",
       "      <th>01/01/2013</th>\n",
       "      <td>1</td>\n",
       "    </tr>\n",
       "    <tr>\n",
       "      <th>01/01/2015</th>\n",
       "      <td>4</td>\n",
       "    </tr>\n",
       "    <tr>\n",
       "      <th>01/01/2016</th>\n",
       "      <td>4</td>\n",
       "    </tr>\n",
       "    <tr>\n",
       "      <th>01/01/2017</th>\n",
       "      <td>1</td>\n",
       "    </tr>\n",
       "  </tbody>\n",
       "</table>\n",
       "</div>"
      ],
      "text/plain": [
       "            US Overdose Deaths\n",
       "Date                          \n",
       "01/01/2012                   1\n",
       "01/01/2013                   1\n",
       "01/01/2015                   4\n",
       "01/01/2016                   4\n",
       "01/01/2017                   1"
      ]
     },
     "execution_count": 24,
     "metadata": {},
     "output_type": "execute_result"
    }
   ],
   "source": [
    "# ensure it is showing properly\n",
    "death_counts.head()"
   ]
  },
  {
   "cell_type": "code",
   "execution_count": 25,
   "metadata": {},
   "outputs": [],
   "source": [
    "death_counts = death_counts.rename(columns={'Date': 'date'})"
   ]
  },
  {
   "cell_type": "code",
   "execution_count": 26,
   "metadata": {},
   "outputs": [
    {
     "data": {
      "text/html": [
       "<div>\n",
       "<style scoped>\n",
       "    .dataframe tbody tr th:only-of-type {\n",
       "        vertical-align: middle;\n",
       "    }\n",
       "\n",
       "    .dataframe tbody tr th {\n",
       "        vertical-align: top;\n",
       "    }\n",
       "\n",
       "    .dataframe thead th {\n",
       "        text-align: right;\n",
       "    }\n",
       "</style>\n",
       "<table border=\"1\" class=\"dataframe\">\n",
       "  <thead>\n",
       "    <tr style=\"text-align: right;\">\n",
       "      <th></th>\n",
       "      <th>US Overdose Deaths</th>\n",
       "    </tr>\n",
       "    <tr>\n",
       "      <th>Date</th>\n",
       "      <th></th>\n",
       "    </tr>\n",
       "  </thead>\n",
       "  <tbody>\n",
       "    <tr>\n",
       "      <th>01/01/2012</th>\n",
       "      <td>1</td>\n",
       "    </tr>\n",
       "    <tr>\n",
       "      <th>01/01/2013</th>\n",
       "      <td>1</td>\n",
       "    </tr>\n",
       "    <tr>\n",
       "      <th>01/01/2015</th>\n",
       "      <td>4</td>\n",
       "    </tr>\n",
       "    <tr>\n",
       "      <th>01/01/2016</th>\n",
       "      <td>4</td>\n",
       "    </tr>\n",
       "    <tr>\n",
       "      <th>01/01/2017</th>\n",
       "      <td>1</td>\n",
       "    </tr>\n",
       "  </tbody>\n",
       "</table>\n",
       "</div>"
      ],
      "text/plain": [
       "            US Overdose Deaths\n",
       "Date                          \n",
       "01/01/2012                   1\n",
       "01/01/2013                   1\n",
       "01/01/2015                   4\n",
       "01/01/2016                   4\n",
       "01/01/2017                   1"
      ]
     },
     "execution_count": 26,
     "metadata": {},
     "output_type": "execute_result"
    }
   ],
   "source": [
    "death_counts.head()"
   ]
  },
  {
   "cell_type": "code",
   "execution_count": 27,
   "metadata": {},
   "outputs": [
    {
     "data": {
      "text/plain": [
       "(3520, 1)"
      ]
     },
     "execution_count": 27,
     "metadata": {},
     "output_type": "execute_result"
    }
   ],
   "source": [
    "death_counts.shape"
   ]
  },
  {
   "cell_type": "code",
   "execution_count": 30,
   "metadata": {},
   "outputs": [
    {
     "data": {
      "text/plain": [
       "US Overdose Deaths    0\n",
       "dtype: int64"
      ]
     },
     "execution_count": 30,
     "metadata": {},
     "output_type": "execute_result"
    }
   ],
   "source": [
    "death_counts.isnull().sum()"
   ]
  },
  {
   "cell_type": "code",
   "execution_count": null,
   "metadata": {},
   "outputs": [],
   "source": []
  }
 ],
 "metadata": {
  "kernelspec": {
   "display_name": "base",
   "language": "python",
   "name": "python3"
  },
  "language_info": {
   "codemirror_mode": {
    "name": "ipython",
    "version": 3
   },
   "file_extension": ".py",
   "mimetype": "text/x-python",
   "name": "python",
   "nbconvert_exporter": "python",
   "pygments_lexer": "ipython3",
   "version": "3.11.4"
  }
 },
 "nbformat": 4,
 "nbformat_minor": 2
}
