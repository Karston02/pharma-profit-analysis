{
 "cells": [
  {
   "cell_type": "code",
   "execution_count": 1,
   "metadata": {},
   "outputs": [],
   "source": [
    "# import needed libraries\n",
    "import numpy as np\n",
    "import pandas as pd\n",
    "import math\n",
    "import altair\n",
    "import matplotlib.pyplot as plt\n",
    "import seaborn as sns"
   ]
  },
  {
   "cell_type": "markdown",
   "metadata": {},
   "source": [
    "<h3 style=\"padding-left: 30px; color: #007bff;\">Read in dataframes for visualization</h3>"
   ]
  },
  {
   "cell_type": "code",
   "execution_count": 6,
   "metadata": {},
   "outputs": [],
   "source": [
    "# covid dfs\n",
    "tickers = ['LLY', 'NVO', 'JNJ', 'MRK', 'ABBV', 'MRNA',\n",
    "           'NVS', 'AZN', 'PFE', 'AMGN', 'PPH', 'IHE', 'PJP']\n",
    "\n",
    "covid_dfs= {}\n",
    "\n",
    "for symbol in tickers:\n",
    "    # for each symbol, load the pkl file and store it in the dictionary as a df\n",
    "    covid_dfs[f\"{symbol}_df-covid\"] = pd.read_csv(f\"../pharma-data/merged-dfs/{symbol}_df-covid.csv\", parse_dates=True)\n",
    "\n",
    "for symbol in tickers:\n",
    "    covid_dfs[f\"{symbol}_df-covid\"] = covid_dfs[f\"{symbol}_df-covid\"].rename(columns={\"Unnamed: 0\": \"Date\"})"
   ]
  },
  {
   "cell_type": "code",
   "execution_count": 8,
   "metadata": {},
   "outputs": [],
   "source": [
    "# overdose dfs\n",
    "tickers = ['LLY', 'NVO', 'JNJ', 'MRK', 'ABBV', 'MRNA',\n",
    "           'NVS', 'AZN', 'PFE', 'AMGN', 'PPH', 'IHE', 'PJP']\n",
    "\n",
    "overdose_dfs= {}\n",
    "\n",
    "for symbol in tickers:\n",
    "    # for each symbol, load the pkl file and store it in the dictionary as a df\n",
    "    overdose_dfs[f\"{symbol}_df-overdose\"] = pd.read_csv(f\"../pharma-data/merged-dfs/{symbol}_df-overdose.csv\", parse_dates=True)\n",
    "\n",
    "for symbol in tickers:\n",
    "    overdose_dfs[f\"{symbol}_df-overdose\"] = overdose_dfs[f\"{symbol}_df-overdose\"].rename(columns={\"Unnamed: 0\": \"Date\"})"
   ]
  },
  {
   "cell_type": "markdown",
   "metadata": {},
   "source": [
    "# <center style=\"text-align: center; color: #007bff;\">Visualization 1</center>\n",
    "\n",
    "<h3><center style=\"color: #DE3163;\"><strong>Purpose of Visualization:</strong></center></h3>\n",
    "<ul>\n",
    "    <li>\n",
    "        Describe here\n",
    "    </li>\n",
    "</ul>\n",
    "\n",
    "<h3><center style=\"color: #DE3163;\"><strong>Choice of Layout:</strong></center></h3>\n",
    "<ul>\n",
    "    <li>\n",
    "        Describe here\n",
    "    </li>\n",
    "</ul>"
   ]
  },
  {
   "cell_type": "code",
   "execution_count": null,
   "metadata": {},
   "outputs": [],
   "source": []
  },
  {
   "cell_type": "markdown",
   "metadata": {},
   "source": [
    "# <center style=\"text-align: center; color: #007bff;\">Visualization 2</center>\n",
    "\n",
    "<h3><center style=\"color: #DE3163;\"><strong>Purpose of Visualization:</strong></center></h3>\n",
    "<ul>\n",
    "    <li>\n",
    "        Describe here\n",
    "    </li>\n",
    "</ul>\n",
    "\n",
    "<h3><center style=\"color: #DE3163;\"><strong>Choice of Layout:</strong></center></h3>\n",
    "<ul>\n",
    "    <li>\n",
    "        Describe here\n",
    "    </li>\n",
    "</ul>"
   ]
  },
  {
   "cell_type": "code",
   "execution_count": null,
   "metadata": {},
   "outputs": [],
   "source": []
  },
  {
   "cell_type": "markdown",
   "metadata": {},
   "source": [
    "# <center style=\"text-align: center; color: #007bff;\">Visualization 3</center>\n",
    "\n",
    "<h3><center style=\"color: #DE3163;\"><strong>Purpose of Visualization:</strong></center></h3>\n",
    "<ul>\n",
    "    <li>\n",
    "        Describe here\n",
    "    </li>\n",
    "</ul>\n",
    "\n",
    "<h3><center style=\"color: #DE3163;\"><strong>Choice of Layout:</strong></center></h3>\n",
    "<ul>\n",
    "    <li>\n",
    "        Describe here\n",
    "    </li>\n",
    "</ul>"
   ]
  },
  {
   "cell_type": "code",
   "execution_count": null,
   "metadata": {},
   "outputs": [],
   "source": []
  },
  {
   "cell_type": "markdown",
   "metadata": {},
   "source": [
    "# <center style=\"text-align: center; color: #007bff;\">Visualization 4</center>\n",
    "\n",
    "<h3><center style=\"color: #DE3163;\"><strong>Purpose of Visualization:</strong></center></h3>\n",
    "<ul>\n",
    "    <li>\n",
    "        Describe here\n",
    "    </li>\n",
    "</ul>\n",
    "\n",
    "<h3><center style=\"color: #DE3163;\"><strong>Choice of Layout:</strong></center></h3>\n",
    "<ul>\n",
    "    <li>\n",
    "        Describe here\n",
    "    </li>\n",
    "</ul>"
   ]
  },
  {
   "cell_type": "code",
   "execution_count": null,
   "metadata": {},
   "outputs": [],
   "source": []
  },
  {
   "cell_type": "markdown",
   "metadata": {},
   "source": [
    "# <center style=\"text-align: center; color: #007bff;\">Visualization 5</center>\n",
    "\n",
    "<h3><center style=\"color: #DE3163;\"><strong>Purpose of Visualization:</strong></center></h3>\n",
    "<ul>\n",
    "    <li>\n",
    "        Describe here\n",
    "    </li>\n",
    "</ul>\n",
    "\n",
    "<h3><center style=\"color: #DE3163;\"><strong>Choice of Layout:</strong></center></h3>\n",
    "<ul>\n",
    "    <li>\n",
    "        Describe here\n",
    "    </li>\n",
    "</ul>"
   ]
  },
  {
   "cell_type": "code",
   "execution_count": null,
   "metadata": {},
   "outputs": [],
   "source": []
  }
 ],
 "metadata": {
  "kernelspec": {
   "display_name": "Python 3",
   "language": "python",
   "name": "python3"
  },
  "language_info": {
   "codemirror_mode": {
    "name": "ipython",
    "version": 3
   },
   "file_extension": ".py",
   "mimetype": "text/x-python",
   "name": "python",
   "nbconvert_exporter": "python",
   "pygments_lexer": "ipython3",
   "version": "3.11.4"
  }
 },
 "nbformat": 4,
 "nbformat_minor": 2
}
