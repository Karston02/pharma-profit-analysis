{
 "cells": [
  {
   "cell_type": "code",
   "execution_count": null,
   "metadata": {},
   "outputs": [],
   "source": [
    "# import libraries\n",
    "import pandas as pd"
   ]
  },
  {
   "cell_type": "markdown",
   "metadata": {},
   "source": [
    "#### Read symbols into respective dataframes"
   ]
  },
  {
   "cell_type": "code",
   "execution_count": null,
   "metadata": {},
   "outputs": [],
   "source": [
    "# list of tickers we have data for in pkl file\n",
    "tickers = ['LLY', 'NVO', 'JNJ', 'MRK', 'ABBV', 'MRNA',\n",
    "           'NVS', 'AZN', 'PFE', 'AMGN', 'PPH', 'IHE', 'PJP']\n",
    "\n",
    "dfs = {}  # dictionary to store all dataframes\n",
    "\n",
    "for symbol in tickers:\n",
    "    # for each symbol, load the pkl file and store it in the dictionary as a df\n",
    "    dfs[f\"{symbol}_df\"] = pd.read_pickle(f\"pharma-data/day/{symbol}.pkl\")"
   ]
  },
  {
   "cell_type": "markdown",
   "metadata": {},
   "source": [
    "#### Sanity Check\n",
    "##### Check all the df.head() to ensure they worked"
   ]
  },
  {
   "cell_type": "markdown",
   "metadata": {},
   "source": [
    "#### Check for null values"
   ]
  },
  {
   "cell_type": "code",
   "execution_count": null,
   "metadata": {},
   "outputs": [],
   "source": [
    "# print all null values in each dataframe\n",
    "for df in dfs:\n",
    "    print(f\"Null values in {df}\")\n",
    "    print(dfs[df].isnull().sum())\n",
    "    print(\"\\n\")\n",
    "\n",
    "# we see there are no null values anywhere. yfinance dealt with them."
   ]
  },
  {
   "cell_type": "code",
   "execution_count": null,
   "metadata": {},
   "outputs": [],
   "source": [
    "# check example of shape\n",
    "dfs['LLY_df'].shape"
   ]
  },
  {
   "cell_type": "code",
   "execution_count": null,
   "metadata": {},
   "outputs": [],
   "source": [
    "# find statistics (range, median, mean, std) for all quantitative columns\n",
    "for df_name, df in dfs.items():\n",
    "    # Selecting quantitative columns\n",
    "    quantitative_cols = ['Open', 'High', 'Low', 'Close', 'Volume']\n",
    "    quantitative_cols = [col for col in quantitative_cols if col in df.columns]\n",
    "\n",
    "    print(f\"Statistics for {df_name}:\")\n",
    "    print(df[quantitative_cols].describe())\n",
    "    print(\"\\n\")"
   ]
  },
  {
   "cell_type": "code",
   "execution_count": null,
   "metadata": {},
   "outputs": [],
   "source": [
    "# check starting date is January 6th, 2020\n",
    "for df_name, df in dfs.items():\n",
    "    print(f\"Starting date for {df_name}: {df.index[0]}\")\n",
    "    print(\"\\n\")"
   ]
  },
  {
   "cell_type": "code",
   "execution_count": null,
   "metadata": {},
   "outputs": [],
   "source": [
    "# export dataframes to /pharma-data/clean-data/stocks\n",
    "for df_name, df in dfs.items():\n",
    "    df.to_csv(f\"pharma-data/clean-data/stocks/{df_name}.csv\")"
   ]
  }
 ],
 "metadata": {
  "kernelspec": {
   "display_name": "Python 3",
   "language": "python",
   "name": "python3"
  },
  "language_info": {
   "codemirror_mode": {
    "name": "ipython",
    "version": 3
   },
   "file_extension": ".py",
   "mimetype": "text/x-python",
   "name": "python",
   "nbconvert_exporter": "python",
   "pygments_lexer": "ipython3",
   "version": "3.11.4"
  }
 },
 "nbformat": 4,
 "nbformat_minor": 2
}
