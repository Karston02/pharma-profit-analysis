{
 "cells": [
  {
   "cell_type": "code",
   "execution_count": null,
   "metadata": {},
   "outputs": [],
   "source": [
    "# import all libraries\n",
    "import pandas as pd\n",
    "import numpy as np\n",
    "from scipy import stats\n",
    "from sklearn.preprocessing import PolynomialFeatures\n",
    "from sklearn.linear_model import LinearRegression\n",
    "import matplotlib.pyplot as plt"
   ]
  },
  {
   "cell_type": "code",
   "execution_count": null,
   "metadata": {},
   "outputs": [],
   "source": [
    "# all used tickers\n",
    "tickers = ['LLY', 'NVO', 'JNJ', 'MRK', 'ABBV', 'MRNA',\n",
    "           'NVS', 'AZN', 'PFE', 'AMGN', 'PPH', 'IHE', 'PJP']\n",
    "\n",
    "dfs = {}\n",
    "\n",
    "for symbol in tickers:\n",
    "    # for each symbol, load the pkl file and store it in the dictionary as a df\n",
    "    dfs[f\"{symbol}_df\"] = pd.read_csv(f\"pharma-data/clean-data/stocks/{symbol}_df.csv\", index_col='Date', parse_dates=True)"
   ]
  },
  {
   "cell_type": "code",
   "execution_count": null,
   "metadata": {},
   "outputs": [],
   "source": [
    "# read in covid data\n",
    "covid_df = pd.read_csv(\"pharma-data/clean-data/us_covid_deaths.csv\", index_col='date', parse_dates=True)"
   ]
  },
  {
   "cell_type": "code",
   "execution_count": null,
   "metadata": {},
   "outputs": [],
   "source": [
    "# print the first 2 rows of each df\n",
    "for df_name, df in dfs.items():\n",
    "    print(df_name + \"\\n\")\n",
    "    print(df.head(2))\n",
    "    print(\"\")"
   ]
  },
  {
   "cell_type": "code",
   "execution_count": null,
   "metadata": {},
   "outputs": [],
   "source": [
    "# sanity check\n",
    "covid_df.head()"
   ]
  },
  {
   "cell_type": "code",
   "execution_count": null,
   "metadata": {},
   "outputs": [],
   "source": [
    "# prep dict for the merged data\n",
    "merged_dfs = {}\n",
    "\n",
    "for df_name, df in dfs.items():\n",
    "    # convert index to datetime\n",
    "    df.index = pd.to_datetime(df.index)\n",
    "\n",
    "    # merge data frames based on date index, using inner join to keep only rows with matching dates. (keeps trading days)\n",
    "    merged_dfs[df_name] = pd.merge(df, covid_df, how='inner', left_index=True, right_index=True)"
   ]
  },
  {
   "cell_type": "code",
   "execution_count": null,
   "metadata": {},
   "outputs": [],
   "source": [
    "# send merged dfs to csv in /merged-dfs\n",
    "\n",
    "directory = 'pharma-data/merged-dfs'\n",
    "\n",
    "for df_name, df in merged_dfs.items():\n",
    "    df.to_csv(f\"{directory}/{df_name}-overdose.csv\")"
   ]
  },
  {
   "cell_type": "code",
   "execution_count": null,
   "metadata": {},
   "outputs": [],
   "source": [
    "# check merge worked\n",
    "for df_name, df in merged_dfs.items():\n",
    "    print(df_name + \"\\n\")\n",
    "    print(df.head())\n",
    "    print(\"\")"
   ]
  },
  {
   "cell_type": "code",
   "execution_count": null,
   "metadata": {},
   "outputs": [],
   "source": [
    "# check for correlation among columns. \n",
    "for df_name, df in merged_dfs.items():\n",
    "    print(df_name + \"\\n\")\n",
    "    print(df.corr())\n",
    "    print(\"\")"
   ]
  },
  {
   "cell_type": "code",
   "execution_count": null,
   "metadata": {},
   "outputs": [],
   "source": [
    "# Find the pearson correlation coefficient among closing price & deaths for the day\n",
    "for df_name, df in merged_dfs.items():\n",
    "    p_coef, p_val = stats.pearsonr(df['Close'], df['US covid deaths'])\n",
    "    print(f\"{df_name} Pearson Coef: {p_coef}\" + \"\\n\")"
   ]
  },
  {
   "cell_type": "code",
   "execution_count": null,
   "metadata": {},
   "outputs": [],
   "source": [
    "# check for the best fit - linear, quadratic, or cubic between close and US covid deaths\n",
    "pearson_corr = {}\n",
    "for df_name, df in merged_dfs.items():\n",
    "    pearson_corr[df_name] = df['Close'].corr(df['US covid deaths'])\n",
    "\n",
    "# fit models and calculate r-squared\n",
    "r_squared_values = {}\n",
    "for df_name, df in merged_dfs.items():\n",
    "    x = df['Close'].values.reshape(-1, 1)\n",
    "    y = df['US covid deaths'].values\n",
    "\n",
    "    # linear regression\n",
    "    model_linear = LinearRegression()\n",
    "    model_linear.fit(x, y)\n",
    "    y_pred_linear = model_linear.predict(x)\n",
    "    r_squared_values[f\"{df_name}_linear\"] = model_linear.score(x, y)\n",
    "\n",
    "    # quadratic regression\n",
    "    poly = PolynomialFeatures(degree=2)\n",
    "    x_poly = poly.fit_transform(x)\n",
    "    model_quad = LinearRegression()\n",
    "    model_quad.fit(x_poly, y)\n",
    "    y_pred_quad = model_quad.predict(x_poly)\n",
    "    r_squared_values[f\"{df_name}_quadratic\"] = model_quad.score(x_poly, y)\n",
    "\n",
    "    # cubic regression\n",
    "    poly = PolynomialFeatures(degree=3)\n",
    "    x_poly = poly.fit_transform(x)\n",
    "    model_cubic = LinearRegression()\n",
    "    model_cubic.fit(x_poly, y)\n",
    "    y_pred_cubic = model_cubic.predict(x_poly)\n",
    "    r_squared_values[f\"{df_name}_cubic\"] = model_cubic.score(x_poly, y)\n",
    "\n",
    "# print r-squared values\n",
    "print(\"\\nR-squared values:\")\n",
    "count = 0\n",
    "for model_name, r_squared in r_squared_values.items():\n",
    "    print(f\"{model_name}: {r_squared}\")\n",
    "    count+=1\n",
    "\n",
    "    # after printing the 3 possibilities, print new line\n",
    "    if count % 3 == 0:\n",
    "        print(\"\")"
   ]
  },
  {
   "cell_type": "code",
   "execution_count": null,
   "metadata": {},
   "outputs": [],
   "source": [
    "# check example shape\n",
    "merged_dfs['ABBV_df'].shape"
   ]
  },
  {
   "cell_type": "code",
   "execution_count": null,
   "metadata": {},
   "outputs": [],
   "source": []
  }
 ],
 "metadata": {
  "kernelspec": {
   "display_name": "Python 3 (ipykernel)",
   "language": "python",
   "name": "python3"
  },
  "language_info": {
   "codemirror_mode": {
    "name": "ipython",
    "version": 3
   },
   "file_extension": ".py",
   "mimetype": "text/x-python",
   "name": "python",
   "nbconvert_exporter": "python",
   "pygments_lexer": "ipython3",
   "version": "3.11.4"
  }
 },
 "nbformat": 4,
 "nbformat_minor": 4
}
